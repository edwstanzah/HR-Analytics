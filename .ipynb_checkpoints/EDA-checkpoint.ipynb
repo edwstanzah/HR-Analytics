{
 "cells": [
  {
   "cell_type": "markdown",
   "id": "b43f0320",
   "metadata": {},
   "source": [
    "Table of Contents\n",
    "\n",
    "[Imports](#import)"
   ]
  },
  {
   "cell_type": "markdown",
   "id": "dc42dd56",
   "metadata": {},
   "source": [
    "# Imports <a name=\"import\"></a>"
   ]
  },
  {
   "cell_type": "code",
   "execution_count": 25,
   "id": "635ffa14",
   "metadata": {},
   "outputs": [],
   "source": [
    "import pandas as pd\n",
    "import numpy as np\n",
    "import matplotlib.pyplot as plt\n",
    "import seaborn as sns"
   ]
  },
  {
   "cell_type": "markdown",
   "id": "1dbcb155",
   "metadata": {},
   "source": [
    "# Read Data"
   ]
  },
  {
   "cell_type": "code",
   "execution_count": 3,
   "id": "8f702d87",
   "metadata": {},
   "outputs": [
    {
     "data": {
      "text/plain": [
       "(54808, 14)"
      ]
     },
     "execution_count": 3,
     "metadata": {},
     "output_type": "execute_result"
    }
   ],
   "source": [
    "df = pd.read_csv('data/train.csv')\n",
    "df.shape"
   ]
  },
  {
   "cell_type": "code",
   "execution_count": 4,
   "id": "c1cecd92",
   "metadata": {
    "scrolled": true
   },
   "outputs": [
    {
     "data": {
      "text/html": [
       "<div>\n",
       "<style scoped>\n",
       "    .dataframe tbody tr th:only-of-type {\n",
       "        vertical-align: middle;\n",
       "    }\n",
       "\n",
       "    .dataframe tbody tr th {\n",
       "        vertical-align: top;\n",
       "    }\n",
       "\n",
       "    .dataframe thead th {\n",
       "        text-align: right;\n",
       "    }\n",
       "</style>\n",
       "<table border=\"1\" class=\"dataframe\">\n",
       "  <thead>\n",
       "    <tr style=\"text-align: right;\">\n",
       "      <th></th>\n",
       "      <th>employee_id</th>\n",
       "      <th>department</th>\n",
       "      <th>region</th>\n",
       "      <th>education</th>\n",
       "      <th>gender</th>\n",
       "      <th>recruitment_channel</th>\n",
       "      <th>no_of_trainings</th>\n",
       "      <th>age</th>\n",
       "      <th>previous_year_rating</th>\n",
       "      <th>length_of_service</th>\n",
       "      <th>KPIs_met &gt;80%</th>\n",
       "      <th>awards_won?</th>\n",
       "      <th>avg_training_score</th>\n",
       "      <th>is_promoted</th>\n",
       "    </tr>\n",
       "  </thead>\n",
       "  <tbody>\n",
       "    <tr>\n",
       "      <th>0</th>\n",
       "      <td>65438</td>\n",
       "      <td>Sales &amp; Marketing</td>\n",
       "      <td>region_7</td>\n",
       "      <td>Master's &amp; above</td>\n",
       "      <td>f</td>\n",
       "      <td>sourcing</td>\n",
       "      <td>1</td>\n",
       "      <td>35</td>\n",
       "      <td>5.0</td>\n",
       "      <td>8</td>\n",
       "      <td>1</td>\n",
       "      <td>0</td>\n",
       "      <td>49</td>\n",
       "      <td>0</td>\n",
       "    </tr>\n",
       "    <tr>\n",
       "      <th>1</th>\n",
       "      <td>65141</td>\n",
       "      <td>Operations</td>\n",
       "      <td>region_22</td>\n",
       "      <td>Bachelor's</td>\n",
       "      <td>m</td>\n",
       "      <td>other</td>\n",
       "      <td>1</td>\n",
       "      <td>30</td>\n",
       "      <td>5.0</td>\n",
       "      <td>4</td>\n",
       "      <td>0</td>\n",
       "      <td>0</td>\n",
       "      <td>60</td>\n",
       "      <td>0</td>\n",
       "    </tr>\n",
       "    <tr>\n",
       "      <th>2</th>\n",
       "      <td>7513</td>\n",
       "      <td>Sales &amp; Marketing</td>\n",
       "      <td>region_19</td>\n",
       "      <td>Bachelor's</td>\n",
       "      <td>m</td>\n",
       "      <td>sourcing</td>\n",
       "      <td>1</td>\n",
       "      <td>34</td>\n",
       "      <td>3.0</td>\n",
       "      <td>7</td>\n",
       "      <td>0</td>\n",
       "      <td>0</td>\n",
       "      <td>50</td>\n",
       "      <td>0</td>\n",
       "    </tr>\n",
       "    <tr>\n",
       "      <th>3</th>\n",
       "      <td>2542</td>\n",
       "      <td>Sales &amp; Marketing</td>\n",
       "      <td>region_23</td>\n",
       "      <td>Bachelor's</td>\n",
       "      <td>m</td>\n",
       "      <td>other</td>\n",
       "      <td>2</td>\n",
       "      <td>39</td>\n",
       "      <td>1.0</td>\n",
       "      <td>10</td>\n",
       "      <td>0</td>\n",
       "      <td>0</td>\n",
       "      <td>50</td>\n",
       "      <td>0</td>\n",
       "    </tr>\n",
       "    <tr>\n",
       "      <th>4</th>\n",
       "      <td>48945</td>\n",
       "      <td>Technology</td>\n",
       "      <td>region_26</td>\n",
       "      <td>Bachelor's</td>\n",
       "      <td>m</td>\n",
       "      <td>other</td>\n",
       "      <td>1</td>\n",
       "      <td>45</td>\n",
       "      <td>3.0</td>\n",
       "      <td>2</td>\n",
       "      <td>0</td>\n",
       "      <td>0</td>\n",
       "      <td>73</td>\n",
       "      <td>0</td>\n",
       "    </tr>\n",
       "  </tbody>\n",
       "</table>\n",
       "</div>"
      ],
      "text/plain": [
       "   employee_id         department     region         education gender  \\\n",
       "0        65438  Sales & Marketing   region_7  Master's & above      f   \n",
       "1        65141         Operations  region_22        Bachelor's      m   \n",
       "2         7513  Sales & Marketing  region_19        Bachelor's      m   \n",
       "3         2542  Sales & Marketing  region_23        Bachelor's      m   \n",
       "4        48945         Technology  region_26        Bachelor's      m   \n",
       "\n",
       "  recruitment_channel  no_of_trainings  age  previous_year_rating  \\\n",
       "0            sourcing                1   35                   5.0   \n",
       "1               other                1   30                   5.0   \n",
       "2            sourcing                1   34                   3.0   \n",
       "3               other                2   39                   1.0   \n",
       "4               other                1   45                   3.0   \n",
       "\n",
       "   length_of_service  KPIs_met >80%  awards_won?  avg_training_score  \\\n",
       "0                  8              1            0                  49   \n",
       "1                  4              0            0                  60   \n",
       "2                  7              0            0                  50   \n",
       "3                 10              0            0                  50   \n",
       "4                  2              0            0                  73   \n",
       "\n",
       "   is_promoted  \n",
       "0            0  \n",
       "1            0  \n",
       "2            0  \n",
       "3            0  \n",
       "4            0  "
      ]
     },
     "execution_count": 4,
     "metadata": {},
     "output_type": "execute_result"
    }
   ],
   "source": [
    "df.head()"
   ]
  },
  {
   "cell_type": "markdown",
   "id": "bf780794",
   "metadata": {},
   "source": [
    "# Missing Values"
   ]
  },
  {
   "cell_type": "code",
   "execution_count": 5,
   "id": "1dba58b2",
   "metadata": {},
   "outputs": [
    {
     "name": "stdout",
     "output_type": "stream",
     "text": [
      "<class 'pandas.core.frame.DataFrame'>\n",
      "RangeIndex: 54808 entries, 0 to 54807\n",
      "Data columns (total 14 columns):\n",
      " #   Column                Non-Null Count  Dtype  \n",
      "---  ------                --------------  -----  \n",
      " 0   employee_id           54808 non-null  int64  \n",
      " 1   department            54808 non-null  object \n",
      " 2   region                54808 non-null  object \n",
      " 3   education             52399 non-null  object \n",
      " 4   gender                54808 non-null  object \n",
      " 5   recruitment_channel   54808 non-null  object \n",
      " 6   no_of_trainings       54808 non-null  int64  \n",
      " 7   age                   54808 non-null  int64  \n",
      " 8   previous_year_rating  50684 non-null  float64\n",
      " 9   length_of_service     54808 non-null  int64  \n",
      " 10  KPIs_met >80%         54808 non-null  int64  \n",
      " 11  awards_won?           54808 non-null  int64  \n",
      " 12  avg_training_score    54808 non-null  int64  \n",
      " 13  is_promoted           54808 non-null  int64  \n",
      "dtypes: float64(1), int64(8), object(5)\n",
      "memory usage: 5.9+ MB\n"
     ]
    }
   ],
   "source": [
    "df.info()"
   ]
  },
  {
   "cell_type": "code",
   "execution_count": 6,
   "id": "bd3b1b3a",
   "metadata": {
    "scrolled": true
   },
   "outputs": [
    {
     "data": {
      "text/plain": [
       "employee_id                0\n",
       "department                 0\n",
       "region                     0\n",
       "education               2409\n",
       "gender                     0\n",
       "recruitment_channel        0\n",
       "no_of_trainings            0\n",
       "age                        0\n",
       "previous_year_rating    4124\n",
       "length_of_service          0\n",
       "KPIs_met >80%              0\n",
       "awards_won?                0\n",
       "avg_training_score         0\n",
       "is_promoted                0\n",
       "dtype: int64"
      ]
     },
     "execution_count": 6,
     "metadata": {},
     "output_type": "execute_result"
    }
   ],
   "source": [
    "df.isna().sum()"
   ]
  },
  {
   "cell_type": "markdown",
   "id": "f47cdc41",
   "metadata": {},
   "source": [
    "Two columns, <code>education</code> and <code>previous_year_rating</code>, have null values. Previous year rating missing some values could be due to new employees having only work for a year or less. "
   ]
  },
  {
   "cell_type": "markdown",
   "id": "3b58f879",
   "metadata": {},
   "source": [
    "## Investigate Missing Values"
   ]
  },
  {
   "cell_type": "markdown",
   "id": "c6000810",
   "metadata": {},
   "source": [
    "### Education"
   ]
  },
  {
   "cell_type": "code",
   "execution_count": 7,
   "id": "0726e198",
   "metadata": {},
   "outputs": [
    {
     "data": {
      "text/plain": [
       "array([\"Master's & above\", \"Bachelor's\", nan, 'Below Secondary'],\n",
       "      dtype=object)"
      ]
     },
     "execution_count": 7,
     "metadata": {},
     "output_type": "execute_result"
    }
   ],
   "source": [
    "df.education.unique()"
   ]
  },
  {
   "cell_type": "markdown",
   "id": "583ea2c5",
   "metadata": {},
   "source": [
    "The category for education should cover everyone, looks like a case of missing entry."
   ]
  },
  {
   "cell_type": "code",
   "execution_count": 8,
   "id": "a7998270",
   "metadata": {},
   "outputs": [],
   "source": [
    "df_no_education = df.loc[df.education.isna()]"
   ]
  },
  {
   "cell_type": "code",
   "execution_count": 9,
   "id": "ea406ea7",
   "metadata": {
    "scrolled": true
   },
   "outputs": [
    {
     "data": {
      "text/html": [
       "<div>\n",
       "<style scoped>\n",
       "    .dataframe tbody tr th:only-of-type {\n",
       "        vertical-align: middle;\n",
       "    }\n",
       "\n",
       "    .dataframe tbody tr th {\n",
       "        vertical-align: top;\n",
       "    }\n",
       "\n",
       "    .dataframe thead th {\n",
       "        text-align: right;\n",
       "    }\n",
       "</style>\n",
       "<table border=\"1\" class=\"dataframe\">\n",
       "  <thead>\n",
       "    <tr style=\"text-align: right;\">\n",
       "      <th></th>\n",
       "      <th>count</th>\n",
       "      <th>mean</th>\n",
       "      <th>std</th>\n",
       "      <th>min</th>\n",
       "      <th>25%</th>\n",
       "      <th>50%</th>\n",
       "      <th>75%</th>\n",
       "      <th>max</th>\n",
       "    </tr>\n",
       "  </thead>\n",
       "  <tbody>\n",
       "    <tr>\n",
       "      <th>employee_id</th>\n",
       "      <td>2409.0</td>\n",
       "      <td>39449.092154</td>\n",
       "      <td>22331.393537</td>\n",
       "      <td>101.0</td>\n",
       "      <td>20096.0</td>\n",
       "      <td>39550.0</td>\n",
       "      <td>58334.0</td>\n",
       "      <td>78269.0</td>\n",
       "    </tr>\n",
       "    <tr>\n",
       "      <th>no_of_trainings</th>\n",
       "      <td>2409.0</td>\n",
       "      <td>1.183479</td>\n",
       "      <td>0.504507</td>\n",
       "      <td>1.0</td>\n",
       "      <td>1.0</td>\n",
       "      <td>1.0</td>\n",
       "      <td>1.0</td>\n",
       "      <td>6.0</td>\n",
       "    </tr>\n",
       "    <tr>\n",
       "      <th>age</th>\n",
       "      <td>2409.0</td>\n",
       "      <td>30.968867</td>\n",
       "      <td>7.550183</td>\n",
       "      <td>20.0</td>\n",
       "      <td>26.0</td>\n",
       "      <td>29.0</td>\n",
       "      <td>34.0</td>\n",
       "      <td>60.0</td>\n",
       "    </tr>\n",
       "    <tr>\n",
       "      <th>previous_year_rating</th>\n",
       "      <td>2024.0</td>\n",
       "      <td>3.130435</td>\n",
       "      <td>1.293270</td>\n",
       "      <td>1.0</td>\n",
       "      <td>2.0</td>\n",
       "      <td>3.0</td>\n",
       "      <td>4.0</td>\n",
       "      <td>5.0</td>\n",
       "    </tr>\n",
       "    <tr>\n",
       "      <th>length_of_service</th>\n",
       "      <td>2409.0</td>\n",
       "      <td>4.407223</td>\n",
       "      <td>3.723495</td>\n",
       "      <td>1.0</td>\n",
       "      <td>2.0</td>\n",
       "      <td>3.0</td>\n",
       "      <td>6.0</td>\n",
       "      <td>32.0</td>\n",
       "    </tr>\n",
       "    <tr>\n",
       "      <th>KPIs_met &gt;80%</th>\n",
       "      <td>2409.0</td>\n",
       "      <td>0.246990</td>\n",
       "      <td>0.431351</td>\n",
       "      <td>0.0</td>\n",
       "      <td>0.0</td>\n",
       "      <td>0.0</td>\n",
       "      <td>0.0</td>\n",
       "      <td>1.0</td>\n",
       "    </tr>\n",
       "    <tr>\n",
       "      <th>awards_won?</th>\n",
       "      <td>2409.0</td>\n",
       "      <td>0.023246</td>\n",
       "      <td>0.150716</td>\n",
       "      <td>0.0</td>\n",
       "      <td>0.0</td>\n",
       "      <td>0.0</td>\n",
       "      <td>0.0</td>\n",
       "      <td>1.0</td>\n",
       "    </tr>\n",
       "    <tr>\n",
       "      <th>avg_training_score</th>\n",
       "      <td>2409.0</td>\n",
       "      <td>58.156496</td>\n",
       "      <td>13.892265</td>\n",
       "      <td>40.0</td>\n",
       "      <td>49.0</td>\n",
       "      <td>52.0</td>\n",
       "      <td>62.0</td>\n",
       "      <td>98.0</td>\n",
       "    </tr>\n",
       "    <tr>\n",
       "      <th>is_promoted</th>\n",
       "      <td>2409.0</td>\n",
       "      <td>0.050643</td>\n",
       "      <td>0.219314</td>\n",
       "      <td>0.0</td>\n",
       "      <td>0.0</td>\n",
       "      <td>0.0</td>\n",
       "      <td>0.0</td>\n",
       "      <td>1.0</td>\n",
       "    </tr>\n",
       "  </tbody>\n",
       "</table>\n",
       "</div>"
      ],
      "text/plain": [
       "                       count          mean           std    min      25%  \\\n",
       "employee_id           2409.0  39449.092154  22331.393537  101.0  20096.0   \n",
       "no_of_trainings       2409.0      1.183479      0.504507    1.0      1.0   \n",
       "age                   2409.0     30.968867      7.550183   20.0     26.0   \n",
       "previous_year_rating  2024.0      3.130435      1.293270    1.0      2.0   \n",
       "length_of_service     2409.0      4.407223      3.723495    1.0      2.0   \n",
       "KPIs_met >80%         2409.0      0.246990      0.431351    0.0      0.0   \n",
       "awards_won?           2409.0      0.023246      0.150716    0.0      0.0   \n",
       "avg_training_score    2409.0     58.156496     13.892265   40.0     49.0   \n",
       "is_promoted           2409.0      0.050643      0.219314    0.0      0.0   \n",
       "\n",
       "                          50%      75%      max  \n",
       "employee_id           39550.0  58334.0  78269.0  \n",
       "no_of_trainings           1.0      1.0      6.0  \n",
       "age                      29.0     34.0     60.0  \n",
       "previous_year_rating      3.0      4.0      5.0  \n",
       "length_of_service         3.0      6.0     32.0  \n",
       "KPIs_met >80%             0.0      0.0      1.0  \n",
       "awards_won?               0.0      0.0      1.0  \n",
       "avg_training_score       52.0     62.0     98.0  \n",
       "is_promoted               0.0      0.0      1.0  "
      ]
     },
     "execution_count": 9,
     "metadata": {},
     "output_type": "execute_result"
    }
   ],
   "source": [
    "df_no_education.describe().transpose()"
   ]
  },
  {
   "cell_type": "markdown",
   "id": "8c3fbcdc",
   "metadata": {},
   "source": [
    "The missing values appear random for entry with missing education. We should drop these rows."
   ]
  },
  {
   "cell_type": "markdown",
   "id": "08e7d807",
   "metadata": {},
   "source": [
    "### Previous Year Rating"
   ]
  },
  {
   "cell_type": "code",
   "execution_count": 10,
   "id": "60541828",
   "metadata": {},
   "outputs": [
    {
     "data": {
      "text/plain": [
       "array([ 5.,  3.,  1.,  4., nan,  2.])"
      ]
     },
     "execution_count": 10,
     "metadata": {},
     "output_type": "execute_result"
    }
   ],
   "source": [
    "df.previous_year_rating.unique()"
   ]
  },
  {
   "cell_type": "code",
   "execution_count": 11,
   "id": "da4ae828",
   "metadata": {},
   "outputs": [],
   "source": [
    "# create a dataframe only for employees that don't have previous_year_rating\n",
    "df_no_prev = df.loc[df.previous_year_rating.isna()]"
   ]
  },
  {
   "cell_type": "code",
   "execution_count": 12,
   "id": "3b11f542",
   "metadata": {},
   "outputs": [
    {
     "data": {
      "text/html": [
       "<div>\n",
       "<style scoped>\n",
       "    .dataframe tbody tr th:only-of-type {\n",
       "        vertical-align: middle;\n",
       "    }\n",
       "\n",
       "    .dataframe tbody tr th {\n",
       "        vertical-align: top;\n",
       "    }\n",
       "\n",
       "    .dataframe thead th {\n",
       "        text-align: right;\n",
       "    }\n",
       "</style>\n",
       "<table border=\"1\" class=\"dataframe\">\n",
       "  <thead>\n",
       "    <tr style=\"text-align: right;\">\n",
       "      <th></th>\n",
       "      <th>count</th>\n",
       "      <th>mean</th>\n",
       "      <th>std</th>\n",
       "      <th>min</th>\n",
       "      <th>25%</th>\n",
       "      <th>50%</th>\n",
       "      <th>75%</th>\n",
       "      <th>max</th>\n",
       "    </tr>\n",
       "  </thead>\n",
       "  <tbody>\n",
       "    <tr>\n",
       "      <th>employee_id</th>\n",
       "      <td>4124.0</td>\n",
       "      <td>39355.611300</td>\n",
       "      <td>22229.347366</td>\n",
       "      <td>32.0</td>\n",
       "      <td>20527.75</td>\n",
       "      <td>39749.5</td>\n",
       "      <td>57999.75</td>\n",
       "      <td>78289.0</td>\n",
       "    </tr>\n",
       "    <tr>\n",
       "      <th>no_of_trainings</th>\n",
       "      <td>4124.0</td>\n",
       "      <td>1.310136</td>\n",
       "      <td>0.708621</td>\n",
       "      <td>1.0</td>\n",
       "      <td>1.00</td>\n",
       "      <td>1.0</td>\n",
       "      <td>1.00</td>\n",
       "      <td>9.0</td>\n",
       "    </tr>\n",
       "    <tr>\n",
       "      <th>age</th>\n",
       "      <td>4124.0</td>\n",
       "      <td>26.873424</td>\n",
       "      <td>2.718587</td>\n",
       "      <td>20.0</td>\n",
       "      <td>25.00</td>\n",
       "      <td>27.0</td>\n",
       "      <td>29.00</td>\n",
       "      <td>43.0</td>\n",
       "    </tr>\n",
       "    <tr>\n",
       "      <th>previous_year_rating</th>\n",
       "      <td>0.0</td>\n",
       "      <td>NaN</td>\n",
       "      <td>NaN</td>\n",
       "      <td>NaN</td>\n",
       "      <td>NaN</td>\n",
       "      <td>NaN</td>\n",
       "      <td>NaN</td>\n",
       "      <td>NaN</td>\n",
       "    </tr>\n",
       "    <tr>\n",
       "      <th>length_of_service</th>\n",
       "      <td>4124.0</td>\n",
       "      <td>1.000000</td>\n",
       "      <td>0.000000</td>\n",
       "      <td>1.0</td>\n",
       "      <td>1.00</td>\n",
       "      <td>1.0</td>\n",
       "      <td>1.00</td>\n",
       "      <td>1.0</td>\n",
       "    </tr>\n",
       "    <tr>\n",
       "      <th>KPIs_met &gt;80%</th>\n",
       "      <td>4124.0</td>\n",
       "      <td>0.349661</td>\n",
       "      <td>0.476921</td>\n",
       "      <td>0.0</td>\n",
       "      <td>0.00</td>\n",
       "      <td>0.0</td>\n",
       "      <td>1.00</td>\n",
       "      <td>1.0</td>\n",
       "    </tr>\n",
       "    <tr>\n",
       "      <th>awards_won?</th>\n",
       "      <td>4124.0</td>\n",
       "      <td>0.023278</td>\n",
       "      <td>0.150805</td>\n",
       "      <td>0.0</td>\n",
       "      <td>0.00</td>\n",
       "      <td>0.0</td>\n",
       "      <td>0.00</td>\n",
       "      <td>1.0</td>\n",
       "    </tr>\n",
       "    <tr>\n",
       "      <th>avg_training_score</th>\n",
       "      <td>4124.0</td>\n",
       "      <td>63.357420</td>\n",
       "      <td>13.801152</td>\n",
       "      <td>40.0</td>\n",
       "      <td>51.00</td>\n",
       "      <td>60.0</td>\n",
       "      <td>77.00</td>\n",
       "      <td>99.0</td>\n",
       "    </tr>\n",
       "    <tr>\n",
       "      <th>is_promoted</th>\n",
       "      <td>4124.0</td>\n",
       "      <td>0.082202</td>\n",
       "      <td>0.274705</td>\n",
       "      <td>0.0</td>\n",
       "      <td>0.00</td>\n",
       "      <td>0.0</td>\n",
       "      <td>0.00</td>\n",
       "      <td>1.0</td>\n",
       "    </tr>\n",
       "  </tbody>\n",
       "</table>\n",
       "</div>"
      ],
      "text/plain": [
       "                       count          mean           std   min       25%  \\\n",
       "employee_id           4124.0  39355.611300  22229.347366  32.0  20527.75   \n",
       "no_of_trainings       4124.0      1.310136      0.708621   1.0      1.00   \n",
       "age                   4124.0     26.873424      2.718587  20.0     25.00   \n",
       "previous_year_rating     0.0           NaN           NaN   NaN       NaN   \n",
       "length_of_service     4124.0      1.000000      0.000000   1.0      1.00   \n",
       "KPIs_met >80%         4124.0      0.349661      0.476921   0.0      0.00   \n",
       "awards_won?           4124.0      0.023278      0.150805   0.0      0.00   \n",
       "avg_training_score    4124.0     63.357420     13.801152  40.0     51.00   \n",
       "is_promoted           4124.0      0.082202      0.274705   0.0      0.00   \n",
       "\n",
       "                          50%       75%      max  \n",
       "employee_id           39749.5  57999.75  78289.0  \n",
       "no_of_trainings           1.0      1.00      9.0  \n",
       "age                      27.0     29.00     43.0  \n",
       "previous_year_rating      NaN       NaN      NaN  \n",
       "length_of_service         1.0      1.00      1.0  \n",
       "KPIs_met >80%             0.0      1.00      1.0  \n",
       "awards_won?               0.0      0.00      1.0  \n",
       "avg_training_score       60.0     77.00     99.0  \n",
       "is_promoted               0.0      0.00      1.0  "
      ]
     },
     "execution_count": 12,
     "metadata": {},
     "output_type": "execute_result"
    }
   ],
   "source": [
    "df_no_prev.describe().transpose()"
   ]
  },
  {
   "cell_type": "markdown",
   "id": "0d89979c",
   "metadata": {},
   "source": [
    "My suspicion appears to be correct. All of the missing data for <code>previous_year_rating</code> are due to the fact that the employees have not worked here long enough, we can conclude this from the <code>length_of_service</code> column. We should replace the NaN values with None or 0 so we could use these rows. "
   ]
  },
  {
   "cell_type": "code",
   "execution_count": 13,
   "id": "1227a634",
   "metadata": {},
   "outputs": [],
   "source": [
    "# replace nan values in previous_year_rating with 0\n",
    "df['previous_year_rating'] = df['previous_year_rating'].replace(np.nan, 0)"
   ]
  },
  {
   "cell_type": "code",
   "execution_count": 14,
   "id": "2c58e976",
   "metadata": {},
   "outputs": [
    {
     "data": {
      "text/plain": [
       "employee_id             False\n",
       "department              False\n",
       "region                  False\n",
       "education               False\n",
       "gender                  False\n",
       "recruitment_channel     False\n",
       "no_of_trainings         False\n",
       "age                     False\n",
       "previous_year_rating    False\n",
       "length_of_service       False\n",
       "KPIs_met >80%           False\n",
       "awards_won?             False\n",
       "avg_training_score      False\n",
       "is_promoted             False\n",
       "dtype: bool"
      ]
     },
     "execution_count": 14,
     "metadata": {},
     "output_type": "execute_result"
    }
   ],
   "source": [
    "# dropping rows with missing values on education\n",
    "df = df.dropna()\n",
    "df.isna().any()"
   ]
  },
  {
   "cell_type": "markdown",
   "id": "1f5a8c49",
   "metadata": {},
   "source": [
    "# Duplicates"
   ]
  },
  {
   "cell_type": "code",
   "execution_count": 15,
   "id": "f9825402",
   "metadata": {},
   "outputs": [
    {
     "data": {
      "text/plain": [
       "False"
      ]
     },
     "execution_count": 15,
     "metadata": {},
     "output_type": "execute_result"
    }
   ],
   "source": [
    "df.duplicated().any()"
   ]
  },
  {
   "cell_type": "code",
   "execution_count": 16,
   "id": "fa3c3253",
   "metadata": {},
   "outputs": [
    {
     "data": {
      "text/plain": [
       "(52399, 14)"
      ]
     },
     "execution_count": 16,
     "metadata": {},
     "output_type": "execute_result"
    }
   ],
   "source": [
    "df.shape"
   ]
  },
  {
   "cell_type": "markdown",
   "id": "b6d26e07",
   "metadata": {},
   "source": [
    "No duplicates found. "
   ]
  },
  {
   "cell_type": "markdown",
   "id": "396d0d2e",
   "metadata": {},
   "source": [
    "Now, the dataframe <code>df</code> is free from NaN values and there's no duplicated rows found. We can proceed. "
   ]
  },
  {
   "cell_type": "markdown",
   "id": "1680246b",
   "metadata": {},
   "source": [
    "## Promotion Rate"
   ]
  },
  {
   "cell_type": "markdown",
   "id": "139c7db3",
   "metadata": {},
   "source": [
    "How many employees in the dataset were actually promoted?"
   ]
  },
  {
   "cell_type": "code",
   "execution_count": 19,
   "id": "00cb6bfe",
   "metadata": {},
   "outputs": [
    {
     "data": {
      "text/plain": [
       "4546"
      ]
     },
     "execution_count": 19,
     "metadata": {},
     "output_type": "execute_result"
    }
   ],
   "source": [
    "df['is_promoted'].sum()"
   ]
  },
  {
   "cell_type": "code",
   "execution_count": 21,
   "id": "3adf2fa3",
   "metadata": {},
   "outputs": [
    {
     "data": {
      "text/plain": [
       "8.675738086604706"
      ]
     },
     "execution_count": 21,
     "metadata": {},
     "output_type": "execute_result"
    }
   ],
   "source": [
    "4546/52399 * 100"
   ]
  },
  {
   "cell_type": "markdown",
   "id": "fde2f5c6",
   "metadata": {},
   "source": [
    "Out of 52,399 employees in the training dataset, only 4546 ended up being promoted. That is less than 10%, which may cause issues such as class imbalance. We'll keep this in mind for now."
   ]
  },
  {
   "cell_type": "code",
   "execution_count": 23,
   "id": "01110949",
   "metadata": {},
   "outputs": [
    {
     "data": {
      "text/plain": [
       "Index(['employee_id', 'department', 'region', 'education', 'gender',\n",
       "       'recruitment_channel', 'no_of_trainings', 'age', 'previous_year_rating',\n",
       "       'length_of_service', 'KPIs_met >80%', 'awards_won?',\n",
       "       'avg_training_score', 'is_promoted'],\n",
       "      dtype='object')"
      ]
     },
     "execution_count": 23,
     "metadata": {},
     "output_type": "execute_result"
    }
   ],
   "source": [
    "df.columns"
   ]
  },
  {
   "cell_type": "markdown",
   "id": "fa9ebfda",
   "metadata": {},
   "source": [
    "# Data Exploration"
   ]
  },
  {
   "cell_type": "markdown",
   "id": "89eaa0f7",
   "metadata": {},
   "source": [
    "We are trying to predict which employees are going to be promoted. Let's explore the data by answering some questions such as:\n",
    "\n",
    "<ul>\n",
    "    <li>Do some departments get more promotion than others?</li>\n",
    "    <li>How about region? Do certain regions hold advantage over others when it comes to promotion?</li>\n",
    "</ul>\n"
   ]
  },
  {
   "cell_type": "markdown",
   "id": "1482df37",
   "metadata": {},
   "source": [
    "## Department\n",
    "\n",
    "See if department plays a role or look to have a relationship with other variables or the probability of promotion"
   ]
  },
  {
   "cell_type": "code",
   "execution_count": 45,
   "id": "1eedd4bd",
   "metadata": {},
   "outputs": [
    {
     "data": {
      "image/png": "[encoded data removed]",
      "text/plain": [
       "<Figure size 1200x800 with 1 Axes>"
      ]
     },
     "metadata": {
      "needs_background": "light"
     },
     "output_type": "display_data"
    }
   ],
   "source": [
    "plt.figure(figsize=(12,8), dpi=100)\n",
    "ax = sns.countplot(data=df, x='department', hue='is_promoted', palette='Paired')\n",
    "\n",
    "# show values on the barplot\n",
    "for i in ax.containers:\n",
    "    ax.bar_label(i)\n",
    "    \n",
    "plt.tight_layout()"
   ]
  },
  {
   "cell_type": "markdown",
   "id": "6fe49c52",
   "metadata": {},
   "source": [
    "It's a little hard to see immediately. However, it appears that some departments do have more promotions per employee in that departments. Sales and marketing, for example, has far more employees than Operations but only has a slightly higher promotions. \n",
    "\n",
    "Technology and Procurement seem to enjoy the higher promotion rate within their departments. "
   ]
  },
  {
   "cell_type": "code",
   "execution_count": 34,
   "id": "13228c74",
   "metadata": {},
   "outputs": [
    {
     "data": {
      "text/plain": [
       "34"
      ]
     },
     "execution_count": 34,
     "metadata": {},
     "output_type": "execute_result"
    }
   ],
   "source": []
  },
  {
   "cell_type": "code",
   "execution_count": null,
   "id": "39130cbf",
   "metadata": {},
   "outputs": [],
   "source": []
  }
 ],
 "metadata": {
  "kernelspec": {
   "display_name": "Python 3 (ipykernel)",
   "language": "python",
   "name": "python3"
  },
  "language_info": {
   "codemirror_mode": {
    "name": "ipython",
    "version": 3
   },
   "file_extension": ".py",
   "mimetype": "text/x-python",
   "name": "python",
   "nbconvert_exporter": "python",
   "pygments_lexer": "ipython3",
   "version": "3.7.11"
  }
 },
 "nbformat": 4,
 "nbformat_minor": 5
}
